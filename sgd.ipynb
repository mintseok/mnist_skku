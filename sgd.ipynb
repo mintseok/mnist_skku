{
  "nbformat": 4,
  "nbformat_minor": 0,
  "metadata": {
    "colab": {
      "provenance": [],
      "authorship_tag": "ABX9TyN0tC1iH6MBkZQm5Di/Uv3y",
      "include_colab_link": true
    },
    "kernelspec": {
      "name": "python3",
      "display_name": "Python 3"
    },
    "language_info": {
      "name": "python"
    },
    "accelerator": "GPU",
    "gpuClass": "standard"
  },
  "cells": [
    {
      "cell_type": "markdown",
      "metadata": {
        "id": "view-in-github",
        "colab_type": "text"
      },
      "source": [
        "<a href=\"https://colab.research.google.com/github/mintseok/mnist_skku/blob/main/sgd.ipynb\" target=\"_parent\"><img src=\"https://colab.research.google.com/assets/colab-badge.svg\" alt=\"Open In Colab\"/></a>"
      ]
    },
    {
      "cell_type": "code",
      "source": [
        "# https://ghqls0210.tistory.com/126?category=836308"
      ],
      "metadata": {
        "id": "N41ULXZpDa3E"
      },
      "execution_count": 1,
      "outputs": []
    },
    {
      "cell_type": "code",
      "source": [
        "import tensorflow as tf\n",
        "import matplotlib.pyplot as plt"
      ],
      "metadata": {
        "id": "45txtiqLDMQa"
      },
      "execution_count": 2,
      "outputs": []
    },
    {
      "cell_type": "code",
      "source": [
        "Mnist = tf.keras.datasets.mnist\n",
        "(x_train, t_train), (x_test, t_test) = Mnist.load_data()"
      ],
      "metadata": {
        "colab": {
          "base_uri": "https://localhost:8080/"
        },
        "id": "GuuHuIZJDMlw",
        "outputId": "4c694960-a62f-43ab-c911-f60290512fec"
      },
      "execution_count": 3,
      "outputs": [
        {
          "output_type": "stream",
          "name": "stdout",
          "text": [
            "Downloading data from https://storage.googleapis.com/tensorflow/tf-keras-datasets/mnist.npz\n",
            "11490434/11490434 [==============================] - 0s 0us/step\n"
          ]
        }
      ]
    },
    {
      "cell_type": "code",
      "source": [
        "for i in range(9):\n",
        "  plt.subplot(3,3,i+1)\n",
        "  plt.tight_layout()\n",
        "  plt.imshow(x_train[i].reshape(28,28), cmap=\"gray\", interpolation=\"none\")\n",
        "  plt.title(\"digit: {}\".format(t_train[i]))\n",
        "  plt.xticks([])\n",
        "  plt.yticks([])\n",
        "\n",
        "plt.show()"
      ],
      "metadata": {
        "colab": {
          "base_uri": "https://localhost:8080/",
          "height": 284
        },
        "id": "kBTntW7JDOHM",
        "outputId": "32939371-8d28-489c-9f23-002ae8e46b66"
      },
      "execution_count": 4,
      "outputs": [
        {
          "output_type": "display_data",
          "data": {
            "text/plain": [
              "<Figure size 432x288 with 9 Axes>"
            ],
            "image/png": "[encoded data removed]"
          },
          "metadata": {}
        }
      ]
    },
    {
      "cell_type": "code",
      "source": [
        "x_train.astype('float32')\n",
        "x_test.astype('float32')\n",
        "x_train, x_test = x_train/255, x_test/255\n",
        "x_train = x_train.reshape(60000,28,28,1)\n",
        "x_test = x_test.reshape(10000,28,28,1)\n",
        "print(x_train.shape)\n",
        "print(t_train.shape)"
      ],
      "metadata": {
        "colab": {
          "base_uri": "https://localhost:8080/"
        },
        "id": "uktb_28yDQh8",
        "outputId": "30e7fc54-9029-4aef-df5a-8d623f251785"
      },
      "execution_count": 5,
      "outputs": [
        {
          "output_type": "stream",
          "name": "stdout",
          "text": [
            "(60000, 28, 28, 1)\n",
            "(60000,)\n"
          ]
        }
      ]
    },
    {
      "cell_type": "code",
      "source": [
        "num_category = 10\n",
        "t_train = tf.keras.utils.to_categorical(t_train, num_category)\n",
        "t_test = tf.keras.utils.to_categorical(t_test, num_category)\n",
        "print(t_train[0])"
      ],
      "metadata": {
        "colab": {
          "base_uri": "https://localhost:8080/"
        },
        "id": "5aFcB0PPDTKd",
        "outputId": "c38756b0-1d55-4dc0-a07b-e45d3c8561a1"
      },
      "execution_count": 6,
      "outputs": [
        {
          "output_type": "stream",
          "name": "stdout",
          "text": [
            "[0. 0. 0. 0. 0. 1. 0. 0. 0. 0.]\n"
          ]
        }
      ]
    },
    {
      "cell_type": "code",
      "source": [
        "model = tf.keras.models.Sequential([\n",
        "              tf.keras.layers.Conv2D(64, 3, activation=\"relu\", padding=\"same\", input_shape=(28,28,1)),\n",
        "              tf.keras.layers.MaxPool2D(2),\n",
        "              tf.keras.layers.Conv2D(128, 3, activation=\"relu\", padding=\"same\"),\n",
        "              tf.keras.layers.MaxPool2D(2),\n",
        "              tf.keras.layers.Dropout(0.25),\n",
        "              tf.keras.layers.Flatten(),\n",
        "              tf.keras.layers.Dense(64, activation=\"relu\"),\n",
        "              tf.keras.layers.Dropout(0.5),\n",
        "              tf.keras.layers.Dense(num_category, activation=\"softmax\")\n",
        "])\n",
        "sgd = optimizers.SGD(lr=0.01, decay=1e-6, momentum=0.9, nesterov=True)"
      ],
      "metadata": {
        "id": "6ApBn9yXDX3N"
      },
      "execution_count": 7,
      "outputs": []
    },
    {
      "cell_type": "code",
      "source": [
        "model.compile(loss=\"categorical_crossentropy\", optimizer=\"sgd\", metrics=[\"accuracy\"])"
      ],
      "metadata": {
        "id": "SVqceh_MDfm5"
      },
      "execution_count": 8,
      "outputs": []
    },
    {
      "cell_type": "code",
      "source": [
        "batch_size = 128\n",
        "num_epoch = 10\n",
        "History = model.fit(x_train, t_train, \n",
        "\tbatch_size=batch_size, epochs=num_epoch, validation_data=(x_test, t_test))"
      ],
      "metadata": {
        "colab": {
          "base_uri": "https://localhost:8080/"
        },
        "id": "eF6cy1ZcDhpy",
        "outputId": "9668da7c-3722-4cb6-c9c4-c3f2fdd14e5b"
      },
      "execution_count": 9,
      "outputs": [
        {
          "output_type": "stream",
          "name": "stdout",
          "text": [
            "Epoch 1/10\n",
            "469/469 [==============================] - 16s 10ms/step - loss: 1.5811 - accuracy: 0.4846 - val_loss: 0.5146 - val_accuracy: 0.8763\n",
            "Epoch 2/10\n",
            "469/469 [==============================] - 4s 9ms/step - loss: 0.6604 - accuracy: 0.7932 - val_loss: 0.2895 - val_accuracy: 0.9218\n",
            "Epoch 3/10\n",
            "469/469 [==============================] - 4s 9ms/step - loss: 0.4720 - accuracy: 0.8543 - val_loss: 0.2110 - val_accuracy: 0.9401\n",
            "Epoch 4/10\n",
            "469/469 [==============================] - 4s 9ms/step - loss: 0.3764 - accuracy: 0.8861 - val_loss: 0.1642 - val_accuracy: 0.9515\n",
            "Epoch 5/10\n",
            "469/469 [==============================] - 4s 9ms/step - loss: 0.3156 - accuracy: 0.9053 - val_loss: 0.1369 - val_accuracy: 0.9582\n",
            "Epoch 6/10\n",
            "469/469 [==============================] - 4s 9ms/step - loss: 0.2752 - accuracy: 0.9186 - val_loss: 0.1192 - val_accuracy: 0.9617\n",
            "Epoch 7/10\n",
            "469/469 [==============================] - 4s 9ms/step - loss: 0.2474 - accuracy: 0.9271 - val_loss: 0.1080 - val_accuracy: 0.9657\n",
            "Epoch 8/10\n",
            "469/469 [==============================] - 4s 9ms/step - loss: 0.2248 - accuracy: 0.9334 - val_loss: 0.1003 - val_accuracy: 0.9691\n",
            "Epoch 9/10\n",
            "469/469 [==============================] - 4s 9ms/step - loss: 0.2070 - accuracy: 0.9391 - val_loss: 0.0882 - val_accuracy: 0.9716\n",
            "Epoch 10/10\n",
            "469/469 [==============================] - 4s 9ms/step - loss: 0.1977 - accuracy: 0.9418 - val_loss: 0.0842 - val_accuracy: 0.9724\n"
          ]
        }
      ]
    },
    {
      "cell_type": "code",
      "source": [
        "score = model.evaluate(x_test, t_test, verbose=0)\n",
        "print(\"Test loss = \", score[0])\n",
        "print(\"Test accuracy = \", score[1])"
      ],
      "metadata": {
        "colab": {
          "base_uri": "https://localhost:8080/"
        },
        "id": "4Q4aBUAzDj1u",
        "outputId": "143a780e-2886-489f-d100-ef00181a746c"
      },
      "execution_count": 10,
      "outputs": [
        {
          "output_type": "stream",
          "name": "stdout",
          "text": [
            "Test loss =  0.08419865369796753\n",
            "Test accuracy =  0.9724000096321106\n"
          ]
        }
      ]
    },
    {
      "cell_type": "code",
      "source": [
        "plt.plot(History.history['accuracy'], label=\"train\")\n",
        "plt.plot(History.history['val_accuracy'], label=\"test\")\n",
        "plt.xlabel('epoch')\n",
        "plt.ylabel('accuracy')\n",
        "plt.legend(loc='lower right')\n",
        "plt.show()"
      ],
      "metadata": {
        "colab": {
          "base_uri": "https://localhost:8080/",
          "height": 279
        },
        "id": "X5zVhL5XDp8P",
        "outputId": "b839772e-3bb2-4cea-bd03-f126bdf8a868"
      },
      "execution_count": 11,
      "outputs": [
        {
          "output_type": "display_data",
          "data": {
            "text/plain": [
              "<Figure size 432x288 with 1 Axes>"
            ],
            "image/png": "[encoded data removed]"
          },
          "metadata": {
            "needs_background": "light"
          }
        }
      ]
    },
    {
      "cell_type": "code",
      "source": [
        "plt.plot(History.history['loss'], label=\"train\")\n",
        "plt.plot(History.history['val_loss'], label=\"test\")\n",
        "plt.xlabel('epoch')\n",
        "plt.ylabel('accuracy')\n",
        "plt.legend(loc='lower right')\n",
        "plt.show()"
      ],
      "metadata": {
        "colab": {
          "base_uri": "https://localhost:8080/",
          "height": 279
        },
        "id": "cmdLKCbSEE5F",
        "outputId": "c7637efe-44c5-44f8-99d9-7993ec25f051"
      },
      "execution_count": 12,
      "outputs": [
        {
          "output_type": "display_data",
          "data": {
            "text/plain": [
              "<Figure size 432x288 with 1 Axes>"
            ],
            "image/png": "[encoded data removed]"
          },
          "metadata": {
            "needs_background": "light"
          }
        }
      ]
    },
    {
      "cell_type": "code",
      "source": [],
      "metadata": {
        "id": "jf6LX2UfEGYn"
      },
      "execution_count": 12,
      "outputs": []
    }
  ]
}