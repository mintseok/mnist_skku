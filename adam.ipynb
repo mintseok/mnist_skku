{
  "nbformat": 4,
  "nbformat_minor": 0,
  "metadata": {
    "colab": {
      "provenance": [],
      "authorship_tag": "ABX9TyOZv/l8sN9Ux18dga/V/MwU",
      "include_colab_link": true
    },
    "kernelspec": {
      "name": "python3",
      "display_name": "Python 3"
    },
    "language_info": {
      "name": "python"
    },
    "accelerator": "GPU",
    "gpuClass": "standard"
  },
  "cells": [
    {
      "cell_type": "markdown",
      "metadata": {
        "id": "view-in-github",
        "colab_type": "text"
      },
      "source": [
        "<a href=\"https://colab.research.google.com/github/mintseok/mnist_skku/blob/main/adam.ipynb\" target=\"_parent\"><img src=\"https://colab.research.google.com/assets/colab-badge.svg\" alt=\"Open In Colab\"/></a>"
      ]
    },
    {
      "cell_type": "code",
      "source": [
        "# https://ghqls0210.tistory.com/126?category=836308"
      ],
      "metadata": {
        "id": "N41ULXZpDa3E"
      },
      "execution_count": null,
      "outputs": []
    },
    {
      "cell_type": "code",
      "source": [
        "import tensorflow as tf\n",
        "import matplotlib.pyplot as plt"
      ],
      "metadata": {
        "id": "45txtiqLDMQa"
      },
      "execution_count": null,
      "outputs": []
    },
    {
      "cell_type": "code",
      "source": [
        "Mnist = tf.keras.datasets.mnist\n",
        "(x_train, t_train), (x_test, t_test) = Mnist.load_data()"
      ],
      "metadata": {
        "colab": {
          "base_uri": "https://localhost:8080/"
        },
        "id": "GuuHuIZJDMlw",
        "outputId": "3cb66703-72de-46b9-c645-331101b50030"
      },
      "execution_count": null,
      "outputs": [
        {
          "output_type": "stream",
          "name": "stdout",
          "text": [
            "Downloading data from https://storage.googleapis.com/tensorflow/tf-keras-datasets/mnist.npz\n",
            "11490434/11490434 [==============================] - 2s 0us/step\n"
          ]
        }
      ]
    },
    {
      "cell_type": "code",
      "source": [
        "for i in range(9):\n",
        "  plt.subplot(3,3,i+1)\n",
        "  plt.tight_layout()\n",
        "  plt.imshow(x_train[i].reshape(28,28), cmap=\"gray\", interpolation=\"none\")\n",
        "  plt.title(\"digit: {}\".format(t_train[i]))\n",
        "  plt.xticks([])\n",
        "  plt.yticks([])\n",
        "\n",
        "plt.show()"
      ],
      "metadata": {
        "colab": {
          "base_uri": "https://localhost:8080/",
          "height": 284
        },
        "id": "kBTntW7JDOHM",
        "outputId": "3117d5b4-9d85-4326-d2a5-c578334268f5"
      },
      "execution_count": null,
      "outputs": [
        {
          "output_type": "display_data",
          "data": {
            "text/plain": [
              "<Figure size 432x288 with 9 Axes>"
            ],
            "image/png": "[encoded data removed]"
          },
          "metadata": {}
        }
      ]
    },
    {
      "cell_type": "code",
      "source": [
        "x_train.astype('float32')\n",
        "x_test.astype('float32')\n",
        "x_train, x_test = x_train/255, x_test/255\n",
        "x_train = x_train.reshape(60000,28,28,1)\n",
        "x_test = x_test.reshape(10000,28,28,1)\n",
        "print(x_train.shape)\n",
        "print(t_train.shape)"
      ],
      "metadata": {
        "colab": {
          "base_uri": "https://localhost:8080/"
        },
        "id": "uktb_28yDQh8",
        "outputId": "39e9aabf-b983-428b-a7f7-9c6e149b1376"
      },
      "execution_count": null,
      "outputs": [
        {
          "output_type": "stream",
          "name": "stdout",
          "text": [
            "(60000, 28, 28, 1)\n",
            "(60000,)\n"
          ]
        }
      ]
    },
    {
      "cell_type": "code",
      "source": [
        "num_category = 10\n",
        "t_train = tf.keras.utils.to_categorical(t_train, num_category)\n",
        "t_test = tf.keras.utils.to_categorical(t_test, num_category)\n",
        "print(t_train[0])"
      ],
      "metadata": {
        "colab": {
          "base_uri": "https://localhost:8080/"
        },
        "id": "5aFcB0PPDTKd",
        "outputId": "54654f66-a84c-4b01-c864-3c75d2923d04"
      },
      "execution_count": null,
      "outputs": [
        {
          "output_type": "stream",
          "name": "stdout",
          "text": [
            "[0. 0. 0. 0. 0. 1. 0. 0. 0. 0.]\n"
          ]
        }
      ]
    },
    {
      "cell_type": "code",
      "source": [
        "model = tf.keras.models.Sequential([\n",
        "              tf.keras.layers.Conv2D(64, 3, activation=\"relu\", padding=\"same\", input_shape=(28,28,1)),\n",
        "              tf.keras.layers.MaxPool2D(2),\n",
        "              tf.keras.layers.Conv2D(128, 3, activation=\"relu\", padding=\"same\"),\n",
        "              tf.keras.layers.MaxPool2D(2),\n",
        "              tf.keras.layers.Dropout(0.25),\n",
        "              tf.keras.layers.Flatten(),\n",
        "              tf.keras.layers.Dense(64, activation=\"relu\"),\n",
        "              tf.keras.layers.Dropout(0.5),\n",
        "              tf.keras.layers.Dense(num_category, activation=\"softmax\")\n",
        "])"
      ],
      "metadata": {
        "id": "6ApBn9yXDX3N"
      },
      "execution_count": null,
      "outputs": []
    },
    {
      "cell_type": "code",
      "source": [
        "model.compile(loss=\"categorical_crossentropy\", optimizer=\"adam\", metrics=[\"accuracy\"])"
      ],
      "metadata": {
        "id": "SVqceh_MDfm5"
      },
      "execution_count": null,
      "outputs": []
    },
    {
      "cell_type": "code",
      "source": [
        "batch_size = 128\n",
        "num_epoch = 10\n",
        "History = model.fit(x_train, t_train, \n",
        "\tbatch_size=batch_size, epochs=num_epoch, validation_data=(x_test, t_test))"
      ],
      "metadata": {
        "colab": {
          "base_uri": "https://localhost:8080/"
        },
        "id": "eF6cy1ZcDhpy",
        "outputId": "a5da7861-f78b-4c4d-92b1-ff7f2f29b887"
      },
      "execution_count": null,
      "outputs": [
        {
          "output_type": "stream",
          "name": "stdout",
          "text": [
            "Epoch 1/10\n",
            "469/469 [==============================] - 15s 10ms/step - loss: 0.3507 - accuracy: 0.8929 - val_loss: 0.0613 - val_accuracy: 0.9810\n",
            "Epoch 2/10\n",
            "469/469 [==============================] - 4s 9ms/step - loss: 0.1270 - accuracy: 0.9625 - val_loss: 0.0385 - val_accuracy: 0.9869\n",
            "Epoch 3/10\n",
            "469/469 [==============================] - 4s 9ms/step - loss: 0.0966 - accuracy: 0.9718 - val_loss: 0.0344 - val_accuracy: 0.9895\n",
            "Epoch 4/10\n",
            "469/469 [==============================] - 4s 9ms/step - loss: 0.0815 - accuracy: 0.9762 - val_loss: 0.0284 - val_accuracy: 0.9912\n",
            "Epoch 5/10\n",
            "469/469 [==============================] - 4s 9ms/step - loss: 0.0693 - accuracy: 0.9792 - val_loss: 0.0293 - val_accuracy: 0.9903\n",
            "Epoch 6/10\n",
            "469/469 [==============================] - 4s 9ms/step - loss: 0.0594 - accuracy: 0.9815 - val_loss: 0.0243 - val_accuracy: 0.9916\n",
            "Epoch 7/10\n",
            "469/469 [==============================] - 4s 9ms/step - loss: 0.0571 - accuracy: 0.9829 - val_loss: 0.0220 - val_accuracy: 0.9924\n",
            "Epoch 8/10\n",
            "469/469 [==============================] - 4s 9ms/step - loss: 0.0510 - accuracy: 0.9840 - val_loss: 0.0213 - val_accuracy: 0.9934\n",
            "Epoch 9/10\n",
            "469/469 [==============================] - 4s 9ms/step - loss: 0.0459 - accuracy: 0.9861 - val_loss: 0.0271 - val_accuracy: 0.9923\n",
            "Epoch 10/10\n",
            "469/469 [==============================] - 5s 10ms/step - loss: 0.0416 - accuracy: 0.9871 - val_loss: 0.0217 - val_accuracy: 0.9928\n"
          ]
        }
      ]
    },
    {
      "cell_type": "code",
      "source": [
        "score = model.evaluate(x_test, t_test, verbose=0)\n",
        "print(\"Test loss = \", score[0])\n",
        "print(\"Test accuracy = \", score[1])"
      ],
      "metadata": {
        "colab": {
          "base_uri": "https://localhost:8080/"
        },
        "id": "4Q4aBUAzDj1u",
        "outputId": "7e8f669b-b815-4020-b679-371dc07e1729"
      },
      "execution_count": null,
      "outputs": [
        {
          "output_type": "stream",
          "name": "stdout",
          "text": [
            "Test loss =  0.02168632671236992\n",
            "Test accuracy =  0.9927999973297119\n"
          ]
        }
      ]
    },
    {
      "cell_type": "code",
      "source": [
        "plt.plot(History.history['accuracy'], label=\"train\")\n",
        "plt.plot(History.history['val_accuracy'], label=\"test\")\n",
        "plt.xlabel('epoch')\n",
        "plt.ylabel('accuracy')\n",
        "plt.legend(loc='lower right')\n",
        "plt.show()"
      ],
      "metadata": {
        "colab": {
          "base_uri": "https://localhost:8080/",
          "height": 279
        },
        "id": "X5zVhL5XDp8P",
        "outputId": "35630fac-b6e1-41aa-eaf5-67e04e8a8fb3"
      },
      "execution_count": null,
      "outputs": [
        {
          "output_type": "display_data",
          "data": {
            "text/plain": [
              "<Figure size 432x288 with 1 Axes>"
            ],
            "image/png": "[encoded data removed]"
          },
          "metadata": {
            "needs_background": "light"
          }
        }
      ]
    },
    {
      "cell_type": "code",
      "source": [
        "plt.plot(History.history['loss'], label=\"train\")\n",
        "plt.plot(History.history['val_loss'], label=\"test\")\n",
        "plt.xlabel('epoch')\n",
        "plt.ylabel('accuracy')\n",
        "plt.legend(loc='lower right')\n",
        "plt.show()"
      ],
      "metadata": {
        "colab": {
          "base_uri": "https://localhost:8080/",
          "height": 279
        },
        "id": "cmdLKCbSEE5F",
        "outputId": "6a621327-f83d-4b61-f6e0-f122f39314bc"
      },
      "execution_count": null,
      "outputs": [
        {
          "output_type": "display_data",
          "data": {
            "text/plain": [
              "<Figure size 432x288 with 1 Axes>"
            ],
            "image/png": "[encoded data removed]"
          },
          "metadata": {
            "needs_background": "light"
          }
        }
      ]
    },
    {
      "cell_type": "code",
      "source": [],
      "metadata": {
        "id": "jf6LX2UfEGYn"
      },
      "execution_count": null,
      "outputs": []
    }
  ]
}