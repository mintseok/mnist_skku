{
  "nbformat": 4,
  "nbformat_minor": 0,
  "metadata": {
    "colab": {
      "provenance": [],
      "authorship_tag": "ABX9TyNV+UFtyKGHdiDxw5KzU6qe",
      "include_colab_link": true
    },
    "kernelspec": {
      "name": "python3",
      "display_name": "Python 3"
    },
    "language_info": {
      "name": "python"
    },
    "accelerator": "GPU",
    "gpuClass": "standard"
  },
  "cells": [
    {
      "cell_type": "markdown",
      "metadata": {
        "id": "view-in-github",
        "colab_type": "text"
      },
      "source": [
        "<a href=\"https://colab.research.google.com/github/mintseok/mnist_skku/blob/main/%EC%9D%B8%EC%A7%80%EC%88%98_MNIST_SGD_0_0001_%EC%86%A1%EC%A7%84%ED%98%B8_%ED%97%88%EB%AF%BC%EC%84%9D.ipynb\" target=\"_parent\"><img src=\"https://colab.research.google.com/assets/colab-badge.svg\" alt=\"Open In Colab\"/></a>"
      ]
    },
    {
      "cell_type": "code",
      "source": [
        "from mnist import load_mnist\n",
        "\n",
        "(x_train, t_train), (x_test, t_test) = load_mnist(normalize=True, one_hot_label=False)\n",
        "\n",
        "print(x_train.shape) # (60000, 784)\n",
        "print(t_train.shape) # (60000, 10)\n",
        "print(x_test.shape)  # (10000, 784)\n",
        "print(t_test.shape)  # (10000, 10)\n",
        "print(t_train[0])"
      ],
      "metadata": {
        "colab": {
          "base_uri": "https://localhost:8080/"
        },
        "id": "-wKxagEMqJ6M",
        "outputId": "0d380787-3cfe-42ed-9764-041260165290"
      },
      "execution_count": 1,
      "outputs": [
        {
          "output_type": "stream",
          "name": "stdout",
          "text": [
            "Downloading train-images-idx3-ubyte.gz ... \n",
            "Done\n",
            "Downloading train-labels-idx1-ubyte.gz ... \n",
            "Done\n",
            "Downloading t10k-images-idx3-ubyte.gz ... \n",
            "Done\n",
            "Downloading t10k-labels-idx1-ubyte.gz ... \n",
            "Done\n",
            "Converting train-images-idx3-ubyte.gz to NumPy Array ...\n",
            "Done\n",
            "Converting train-labels-idx1-ubyte.gz to NumPy Array ...\n",
            "Done\n",
            "Converting t10k-images-idx3-ubyte.gz to NumPy Array ...\n",
            "Done\n",
            "Converting t10k-labels-idx1-ubyte.gz to NumPy Array ...\n",
            "Done\n",
            "Creating pickle file ...\n",
            "Done!\n",
            "(60000, 784)\n",
            "(60000,)\n",
            "(10000, 784)\n",
            "(10000,)\n",
            "5\n"
          ]
        }
      ]
    },
    {
      "cell_type": "code",
      "source": [
        "t_train0 = [] # 5923 -> 300으로 줄여야 한다\n",
        "t_train1 = [] # 6742 -> 300\n",
        "t_train2 = [] # 5958\n",
        "t_train3 = [] # 6131\n",
        "t_train4 = [] # 5842\n",
        "t_train5 = [] # 5421\n",
        "t_train6 = [] # 5918\n",
        "t_train7 = [] # 6265\n",
        "t_train8 = [] # 5851\n",
        "t_train9 = [] # 5949\n",
        "for i in range(60000):\n",
        "  if t_train[i]==0:\n",
        "    t_train0.append(i)\n",
        "  if t_train[i]==1:\n",
        "    t_train1.append(i)\n",
        "  if t_train[i]==2:\n",
        "    t_train2.append(i)\n",
        "  if t_train[i]==3:\n",
        "    t_train3.append(i)\n",
        "  if t_train[i]==4:\n",
        "    t_train4.append(i)\n",
        "  if t_train[i]==5:\n",
        "    t_train5.append(i)\n",
        "  if t_train[i]==6:\n",
        "    t_train6.append(i)\n",
        "  if t_train[i]==7:\n",
        "    t_train7.append(i)\n",
        "  if t_train[i]==8:\n",
        "    t_train8.append(i)\n",
        "  if t_train[i]==9:\n",
        "    t_train9.append(i)\n",
        "\n",
        "print(len(t_train0), len(t_train1), len(t_train2), len(t_train3), len(t_train4), len(t_train5), len(t_train6), len(t_train7), len(t_train8), len(t_train9))"
      ],
      "metadata": {
        "colab": {
          "base_uri": "https://localhost:8080/"
        },
        "id": "OyXJzzsWyr0T",
        "outputId": "8efa7f1a-bc57-47b1-d95a-1bf632acbfac"
      },
      "execution_count": 2,
      "outputs": [
        {
          "output_type": "stream",
          "name": "stdout",
          "text": [
            "5923 6742 5958 6131 5842 5421 5918 6265 5851 5949\n"
          ]
        }
      ]
    },
    {
      "cell_type": "code",
      "source": [
        "t_test0 = [] # 980 -> 50으로 줄여야 한다\n",
        "t_test1 = [] # 1135 -> 50\n",
        "t_test2 = [] # 1032\n",
        "t_test3 = [] # 1010\n",
        "t_test4 = [] # 982\n",
        "t_test5 = [] # 892\n",
        "t_test6 = [] # 958\n",
        "t_test7 = [] # 1028\n",
        "t_test8 = [] # 974\n",
        "t_test9 = [] # 1009\n",
        "for i in range(10000):\n",
        "  if t_test[i]==0:\n",
        "    t_test0.append(i)\n",
        "  if t_test[i]==1:\n",
        "    t_test1.append(i)\n",
        "  if t_test[i]==2:\n",
        "    t_test2.append(i)\n",
        "  if t_test[i]==3:\n",
        "    t_test3.append(i)\n",
        "  if t_test[i]==4:\n",
        "    t_test4.append(i)\n",
        "  if t_test[i]==5:\n",
        "    t_test5.append(i)\n",
        "  if t_test[i]==6:\n",
        "    t_test6.append(i)\n",
        "  if t_test[i]==7:\n",
        "    t_test7.append(i)\n",
        "  if t_test[i]==8:\n",
        "    t_test8.append(i)\n",
        "  if t_test[i]==9:\n",
        "    t_test9.append(i)\n",
        "\n",
        "print(len(t_test0), len(t_test1), len(t_test2), len(t_test3), len(t_test4), len(t_test5), len(t_test6), len(t_test7), len(t_test8), len(t_test9))"
      ],
      "metadata": {
        "colab": {
          "base_uri": "https://localhost:8080/"
        },
        "id": "phfmtuow0JNf",
        "outputId": "1416ae24-7944-4de9-fa18-60a2e6c9e102"
      },
      "execution_count": 3,
      "outputs": [
        {
          "output_type": "stream",
          "name": "stdout",
          "text": [
            "980 1135 1032 1010 982 892 958 1028 974 1009\n"
          ]
        }
      ]
    },
    {
      "cell_type": "code",
      "source": [
        "new_x_train = []\n",
        "new_t_train = []\n",
        "RANGE = 250\n",
        "# 0~7 -> 250개\n",
        "# 8   -> 600개\n",
        "# 9   -> 400개\n",
        "for i in range(RANGE):\n",
        "  new_t_train.append(t_train[t_train0[i]])\n",
        "  new_x_train.append(x_train[t_train0[i]])\n",
        "for i in range(RANGE):\n",
        "  new_t_train.append(t_train[t_train1[i]])\n",
        "  new_x_train.append(x_train[t_train1[i]])\n",
        "for i in range(RANGE):\n",
        "  new_t_train.append(t_train[t_train2[i]])\n",
        "  new_x_train.append(x_train[t_train2[i]])\n",
        "for i in range(RANGE):\n",
        "  new_t_train.append(t_train[t_train3[i]])\n",
        "  new_x_train.append(x_train[t_train3[i]])\n",
        "for i in range(RANGE):\n",
        "  new_t_train.append(t_train[t_train4[i]])\n",
        "  new_x_train.append(x_train[t_train4[i]])\n",
        "for i in range(RANGE):\n",
        "  new_t_train.append(t_train[t_train5[i]])\n",
        "  new_x_train.append(x_train[t_train5[i]])\n",
        "for i in range(RANGE):\n",
        "  new_t_train.append(t_train[t_train6[i]])\n",
        "  new_x_train.append(x_train[t_train6[i]])\n",
        "for i in range(RANGE):\n",
        "  new_t_train.append(t_train[t_train7[i]])\n",
        "  new_x_train.append(x_train[t_train7[i]])\n",
        "for i in range(600):\n",
        "  new_t_train.append(t_train[t_train8[i]])\n",
        "  new_x_train.append(x_train[t_train8[i]])\n",
        "for i in range(400):\n",
        "  new_t_train.append(t_train[t_train9[i]])\n",
        "  new_x_train.append(x_train[t_train9[i]])"
      ],
      "metadata": {
        "id": "fjXmwSP81coy"
      },
      "execution_count": 4,
      "outputs": []
    },
    {
      "cell_type": "code",
      "source": [
        "new_x_test = []\n",
        "new_t_test = []\n",
        "RANGE = 50\n",
        "for i in range(RANGE):\n",
        "  new_t_test.append(t_test[t_test0[i]])\n",
        "  new_x_test.append(x_test[t_test0[i]])\n",
        "for i in range(RANGE):\n",
        "  new_t_test.append(t_test[t_test1[i]])\n",
        "  new_x_test.append(x_test[t_test1[i]])\n",
        "for i in range(RANGE):\n",
        "  new_t_test.append(t_test[t_test2[i]])\n",
        "  new_x_test.append(x_test[t_test2[i]])\n",
        "for i in range(RANGE):\n",
        "  new_t_test.append(t_test[t_test3[i]])\n",
        "  new_x_test.append(x_test[t_test3[i]])\n",
        "for i in range(RANGE):\n",
        "  new_t_test.append(t_test[t_test4[i]])\n",
        "  new_x_test.append(x_test[t_test4[i]])\n",
        "for i in range(RANGE):\n",
        "  new_t_test.append(t_test[t_test5[i]])\n",
        "  new_x_test.append(x_test[t_test5[i]])\n",
        "for i in range(RANGE):\n",
        "  new_t_test.append(t_test[t_test6[i]])\n",
        "  new_x_test.append(x_test[t_test6[i]])\n",
        "for i in range(RANGE):\n",
        "  new_t_test.append(t_test[t_test7[i]])\n",
        "  new_x_test.append(x_test[t_test7[i]])\n",
        "for i in range(RANGE):\n",
        "  new_t_test.append(t_test[t_test8[i]])\n",
        "  new_x_test.append(x_test[t_test8[i]])\n",
        "for i in range(RANGE):\n",
        "  new_t_test.append(t_test[t_test9[i]])\n",
        "  new_x_test.append(x_test[t_test9[i]])"
      ],
      "metadata": {
        "id": "fmWJRQYJ4Mz9"
      },
      "execution_count": 5,
      "outputs": []
    },
    {
      "cell_type": "code",
      "source": [
        "testIdx = []\n",
        "for i in range(300*10):\n",
        "  if new_t_train[i] == 8:\n",
        "    new_t_train[i] = 1\n",
        "    print(i, end=' ')\n",
        "  else:\n",
        "    new_t_train[i] = -1\n",
        "for i in range(50*10):\n",
        "  if new_t_test[i] == 8:\n",
        "    new_t_test[i] = 1\n",
        "  else:\n",
        "    new_t_test[i] = -1"
      ],
      "metadata": {
        "colab": {
          "base_uri": "https://localhost:8080/"
        },
        "id": "ze4-boRmWdOj",
        "outputId": "58af4ec9-9418-4dae-f917-60e407a3abf1"
      },
      "execution_count": 6,
      "outputs": [
        {
          "output_type": "stream",
          "name": "stdout",
          "text": [
            "2000 2001 2002 2003 2004 2005 2006 2007 2008 2009 2010 2011 2012 2013 2014 2015 2016 2017 2018 2019 2020 2021 2022 2023 2024 2025 2026 2027 2028 2029 2030 2031 2032 2033 2034 2035 2036 2037 2038 2039 2040 2041 2042 2043 2044 2045 2046 2047 2048 2049 2050 2051 2052 2053 2054 2055 2056 2057 2058 2059 2060 2061 2062 2063 2064 2065 2066 2067 2068 2069 2070 2071 2072 2073 2074 2075 2076 2077 2078 2079 2080 2081 2082 2083 2084 2085 2086 2087 2088 2089 2090 2091 2092 2093 2094 2095 2096 2097 2098 2099 2100 2101 2102 2103 2104 2105 2106 2107 2108 2109 2110 2111 2112 2113 2114 2115 2116 2117 2118 2119 2120 2121 2122 2123 2124 2125 2126 2127 2128 2129 2130 2131 2132 2133 2134 2135 2136 2137 2138 2139 2140 2141 2142 2143 2144 2145 2146 2147 2148 2149 2150 2151 2152 2153 2154 2155 2156 2157 2158 2159 2160 2161 2162 2163 2164 2165 2166 2167 2168 2169 2170 2171 2172 2173 2174 2175 2176 2177 2178 2179 2180 2181 2182 2183 2184 2185 2186 2187 2188 2189 2190 2191 2192 2193 2194 2195 2196 2197 2198 2199 2200 2201 2202 2203 2204 2205 2206 2207 2208 2209 2210 2211 2212 2213 2214 2215 2216 2217 2218 2219 2220 2221 2222 2223 2224 2225 2226 2227 2228 2229 2230 2231 2232 2233 2234 2235 2236 2237 2238 2239 2240 2241 2242 2243 2244 2245 2246 2247 2248 2249 2250 2251 2252 2253 2254 2255 2256 2257 2258 2259 2260 2261 2262 2263 2264 2265 2266 2267 2268 2269 2270 2271 2272 2273 2274 2275 2276 2277 2278 2279 2280 2281 2282 2283 2284 2285 2286 2287 2288 2289 2290 2291 2292 2293 2294 2295 2296 2297 2298 2299 2300 2301 2302 2303 2304 2305 2306 2307 2308 2309 2310 2311 2312 2313 2314 2315 2316 2317 2318 2319 2320 2321 2322 2323 2324 2325 2326 2327 2328 2329 2330 2331 2332 2333 2334 2335 2336 2337 2338 2339 2340 2341 2342 2343 2344 2345 2346 2347 2348 2349 2350 2351 2352 2353 2354 2355 2356 2357 2358 2359 2360 2361 2362 2363 2364 2365 2366 2367 2368 2369 2370 2371 2372 2373 2374 2375 2376 2377 2378 2379 2380 2381 2382 2383 2384 2385 2386 2387 2388 2389 2390 2391 2392 2393 2394 2395 2396 2397 2398 2399 2400 2401 2402 2403 2404 2405 2406 2407 2408 2409 2410 2411 2412 2413 2414 2415 2416 2417 2418 2419 2420 2421 2422 2423 2424 2425 2426 2427 2428 2429 2430 2431 2432 2433 2434 2435 2436 2437 2438 2439 2440 2441 2442 2443 2444 2445 2446 2447 2448 2449 2450 2451 2452 2453 2454 2455 2456 2457 2458 2459 2460 2461 2462 2463 2464 2465 2466 2467 2468 2469 2470 2471 2472 2473 2474 2475 2476 2477 2478 2479 2480 2481 2482 2483 2484 2485 2486 2487 2488 2489 2490 2491 2492 2493 2494 2495 2496 2497 2498 2499 2500 2501 2502 2503 2504 2505 2506 2507 2508 2509 2510 2511 2512 2513 2514 2515 2516 2517 2518 2519 2520 2521 2522 2523 2524 2525 2526 2527 2528 2529 2530 2531 2532 2533 2534 2535 2536 2537 2538 2539 2540 2541 2542 2543 2544 2545 2546 2547 2548 2549 2550 2551 2552 2553 2554 2555 2556 2557 2558 2559 2560 2561 2562 2563 2564 2565 2566 2567 2568 2569 2570 2571 2572 2573 2574 2575 2576 2577 2578 2579 2580 2581 2582 2583 2584 2585 2586 2587 2588 2589 2590 2591 2592 2593 2594 2595 2596 2597 2598 2599 "
          ]
        }
      ]
    },
    {
      "cell_type": "code",
      "source": [
        "import numpy as np\n",
        "x_train = np.array(new_x_train)\n",
        "x_test = np.array(new_x_test)\n",
        "t_train = np.array(new_t_train)\n",
        "t_test = np.array(new_t_test)\n",
        "print(t_train[0])\n",
        "print(t_train[2001])\n",
        "\n",
        "def _change_ont_hot_label(X):\n",
        "    T = np.zeros((X.size, 1))\n",
        "    for idx, row in enumerate(T):\n",
        "        if X[idx]==-1:\n",
        "          row[0]=-1\n",
        "        else:\n",
        "          row[0]=1\n",
        "        \n",
        "    return T\n",
        "\n",
        "t_train = _change_ont_hot_label(t_train)\n",
        "t_test = _change_ont_hot_label(t_test)\n",
        "\n",
        "print(t_train[0])\n",
        "print(t_train[2001])\n",
        "print(len(x_train))\n",
        "print(len(t_train))\n",
        "print(len(x_test))\n",
        "print(len(t_test))"
      ],
      "metadata": {
        "id": "zYip7-o3ZeiA",
        "colab": {
          "base_uri": "https://localhost:8080/"
        },
        "outputId": "26b03679-eb61-4041-ffa0-a8760363a809"
      },
      "execution_count": 7,
      "outputs": [
        {
          "output_type": "stream",
          "name": "stdout",
          "text": [
            "-1\n",
            "1\n",
            "[-1.]\n",
            "[1.]\n",
            "3000\n",
            "3000\n",
            "500\n",
            "500\n"
          ]
        }
      ]
    },
    {
      "cell_type": "code",
      "source": [
        "import numpy as np\n",
        "\n",
        "def sigmoid(x):\n",
        "    return 1 / (1 + np.exp(-x))\n",
        "\n",
        "def sigmoid_diff(x):\n",
        "    return sigmoid(x) * (1 - sigmoid(x))\n",
        "    \n",
        "def softplus(x):\n",
        "    return np.log(1+np.exp(x))\n",
        "\n",
        "def softmax(x):\n",
        "    if x.ndim == 2:\n",
        "        x = x.T\n",
        "        x = x - np.max(x, axis=0)\n",
        "        y = np.exp(x) / np.sum(np.exp(x), axis=0)\n",
        "        return y.T \n",
        "\n",
        "    x = x - np.max(x) # 오버플로 대책\n",
        "    return np.exp(x) / np.sum(np.exp(x))\n",
        "\n",
        "def cross_entropy_error(y, t):\n",
        "    if y.ndim == 1:\n",
        "        t = t.reshape(1, t.size)\n",
        "        y = y.reshape(1, y.size)\n",
        "        \n",
        "    # 훈련 데이터가 원-핫 벡터라면 정답 레이블의 인덱스로 반환\n",
        "    if t.size == y.size:\n",
        "        t = t.argmax(axis=1)\n",
        "             \n",
        "    batch_size = y.shape[0]\n",
        "    return -np.sum(np.log(y[np.arange(batch_size), t])) / batch_size\n",
        "\n",
        "def numerical_gradient(f, x):\n",
        "    h = 1e-4 # 0.0001\n",
        "    grad = np.zeros_like(x)\n",
        "    \n",
        "    it = np.nditer(x, flags=['multi_index'], op_flags=['readwrite'])\n",
        "    while not it.finished:\n",
        "        idx = it.multi_index\n",
        "        tmp_val = x[idx]\n",
        "        x[idx] = float(tmp_val) + h\n",
        "        fxh1 = f(x) # f(x+h)\n",
        "        \n",
        "        x[idx] = tmp_val - h \n",
        "        fxh2 = f(x) # f(x-h)\n",
        "        grad[idx] = (fxh1 - fxh2) / (2*h)\n",
        "        \n",
        "        x[idx] = tmp_val # 값 복원\n",
        "        it.iternext()   \n",
        "        \n",
        "    return grad\n",
        "\n",
        "class Relu:\n",
        "    def __init__(self):\n",
        "        self.mask = None\n",
        "    \n",
        "    def forward(self, x):\n",
        "        self.mask = (x <= 0)\n",
        "        out = x.copy()\n",
        "        out[self.mask] = 0\n",
        "        \n",
        "        return out\n",
        "        \n",
        "    def backward(self, dout):\n",
        "        dout[self.mask] = 0\n",
        "        dx = dout\n",
        "        \n",
        "        return dx\n",
        "\n",
        "class Sigmoid:\n",
        "    def __init__(self):\n",
        "        self.out = None\n",
        "    \n",
        "    def forward(self, x):\n",
        "        out = 1 / (1 + np.exp(-x))\n",
        "        self.out = out\n",
        "        \n",
        "        return out\n",
        "        \n",
        "    def backward(self, dout):\n",
        "        dx = dout * (1.0 - self.out) * self.out\n",
        "        \n",
        "        return dx\n",
        "\n",
        "def sigmoid(x):\n",
        "    return 1 / (1 + np.exp(-x))\n",
        "\n",
        "# 4.2.2. 교차 엔트로피 오차 참고\n",
        "def cross_entropy_error(y, t):\n",
        "    if y.ndim == 1:\n",
        "        t = t.reshape(1, t.size)\n",
        "        y = y.reshape(1, y.size)\n",
        "        \n",
        "    # 훈련 데이터가 원-핫 벡터라면 정답 레이블의 인덱스로 반환\n",
        "    if t.size == y.size:\n",
        "        t = t.argmax(axis=1)\n",
        "             \n",
        "    batch_size = y.shape[0]\n",
        "    return -np.sum(np.log(y[np.arange(batch_size), t])) / batch_size\n",
        "\n",
        "class SoftmaxWithLoss:\n",
        "    def __init__(self):\n",
        "        self.loss = None # 손실\n",
        "        self.y = None    # softmax의 출력\n",
        "        self.t = None    # 정답 레이블(원-핫 벡터)\n",
        "    \n",
        "    def forward(self, x, t):\n",
        "        self.t = t\n",
        "        self.y = softmax(x)\n",
        "        self.loss = cross_entropy_error(self.y, self.t)\n",
        "        return self.loss\n",
        "    \n",
        "    def backward(self, dout=1):\n",
        "        batch_size = self.t.shape[0]\n",
        "        dx = (self.y - self.t) / batch_size\n",
        "        \n",
        "        return dx"
      ],
      "metadata": {
        "id": "en1fSeIFxtdB"
      },
      "execution_count": 8,
      "outputs": []
    },
    {
      "cell_type": "code",
      "source": [
        "class Affine:\n",
        "    def __init__(self, W, b):\n",
        "        self.W = W\n",
        "        self.b = b\n",
        "        self.x = None\n",
        "        self.dW = None\n",
        "        self.db = None\n",
        "    \n",
        "    def forward(self, x):\n",
        "        self.x = x\n",
        "        out = np.dot(x, self.W) + self.b\n",
        "                \n",
        "        return out\n",
        "    \n",
        "    def backward(self, dout):\n",
        "        dx = np.dot(dout, self.W.T)\n",
        "        repeat = self.x.T.shape[1]\n",
        "        dout1 = np.repeat(dout, repeat, axis=0)\n",
        "        self.dW = np.dot(self.x.T, dout1)\n",
        "        self.db = np.sum(dout, axis=0)\n",
        "        \n",
        "        return dx"
      ],
      "metadata": {
        "id": "TGciwxoBetoc"
      },
      "execution_count": 9,
      "outputs": []
    },
    {
      "cell_type": "code",
      "source": [
        "def softplus(x):\n",
        "    return np.log(1+np.exp(x))\n",
        "\n",
        "def sigmoid(x):\n",
        "    return 1 / (1 + np.exp(-x))\n",
        "\n",
        "def softplus_error(y, t):\n",
        "    if y.ndim == 1:\n",
        "      t = t.reshape(1, t.size)\n",
        "      y = y.reshape(1, y.size)\n",
        "          \n",
        "    batch_size = y.shape[0]\n",
        "    return np.sum(np.log(1+np.exp(-np.dot(t.T,y)))) / batch_size\n",
        "\n",
        "class SoftplusWithLoss:\n",
        "  def __init__(self):\n",
        "    self.loss = None # 손실\n",
        "    self.y = None    # softmax의 출력\n",
        "    self.t = None    # 정답 레이블(원-핫 벡터)\n",
        "\n",
        "  def forward(self, x, t):\n",
        "    self.t = t\n",
        "    self.y = x # affine 계층에서 들어온 그 값\n",
        "    self.loss = softplus_error(self.y, self.t)\n",
        "    return self.loss\n",
        "\n",
        "  def backward(self, dout=1):\n",
        "    batch_size = self.t.shape[0]\n",
        "    dx = (1 - sigmoid(np.dot(self.t.T,self.y))) / batch_size\n",
        "    \n",
        "    return dx"
      ],
      "metadata": {
        "id": "Qu9pkyDTt6__"
      },
      "execution_count": 10,
      "outputs": []
    },
    {
      "cell_type": "code",
      "source": [
        "class SGD:\n",
        "    def __init__(self, lr=0.0001):\n",
        "        self.lr = lr\n",
        "        \n",
        "    def update(self, params, grads):\n",
        "        for key in params.keys():\n",
        "            params[key] -= self.lr * grads[key]"
      ],
      "metadata": {
        "id": "r925ctLuOqcT"
      },
      "execution_count": 11,
      "outputs": []
    },
    {
      "cell_type": "code",
      "source": [
        "from collections import OrderedDict\n",
        "\n",
        "class OneLayerNet:\n",
        "    def __init__(self, input_size, output_size,weight_init_std=0.01):\n",
        "        # 가중치 초기화\n",
        "        self.params = {}\n",
        "        self.params['W1'] = weight_init_std * np.random.randn(input_size, output_size)\n",
        "        self.params['b1'] = np.zeros(output_size)\n",
        "        \n",
        "\n",
        "        # 계층 생성\n",
        "        self.layers = OrderedDict()\n",
        "        self.layers['Affine1'] = Affine(self.params['W1'], self.params['b1'])\n",
        "        self.lastLayer = SoftplusWithLoss() ###\n",
        "\n",
        "    def predict(self, x):\n",
        "        for layer in self.layers.values():\n",
        "            x = layer.forward(x)\n",
        "\n",
        "        return x\n",
        "\n",
        "    # x : 입력 데이터, t : 정답 레이블\n",
        "    def loss(self, x, t):\n",
        "        y = self.predict(x)\n",
        "        return self.lastLayer.forward(y, t)\n",
        "\n",
        "    def accuracy(self, x, t):\n",
        "        y = self.predict(x)\n",
        "        y = np.argmax(y, axis=1)\n",
        "        if t.ndim != 1:\n",
        "            t = np.argmax(t, axis=1)\n",
        "\n",
        "        accuracy = np.sum(y == t) / float(x.shape[0])\n",
        "        return accuracy\n",
        "\n",
        "    def numerical_gradient(self, x, t):\n",
        "        loss_W = lambda W: self.loss(x, t)\n",
        "\n",
        "        grads = {}\n",
        "        grads['W1'] = numerical_gradient(loss_W, self.params['W1'])\n",
        "        grads['b1'] = numerical_gradient(loss_W, self.params['b1'])\n",
        "\n",
        "        return grads\n",
        "\n",
        "    def gradient(self, x, t):\n",
        "        # 순전파\n",
        "        self.loss(x, t)\n",
        "\n",
        "        # 역전파\n",
        "        dout = 1\n",
        "        dout = self.lastLayer.backward(dout)\n",
        "\n",
        "        layers = list(self.layers.values())\n",
        "        layers.reverse()\n",
        "        for layer in layers:\n",
        "            dout = layer.backward(dout)\n",
        "\n",
        "        # 결과 저장\n",
        "        grads = {}\n",
        "        grads['W1'] = self.layers['Affine1'].dW\n",
        "        grads['b1'] = self.layers['Affine1'].db\n",
        "\n",
        "        return grads"
      ],
      "metadata": {
        "id": "mBkFzR5OjmWf"
      },
      "execution_count": 12,
      "outputs": []
    },
    {
      "cell_type": "code",
      "source": [
        "net = OneLayerNet(input_size=784,output_size=1)\n",
        "print(net.params['W1'].shape) # (784, 2)\n",
        "print(net.params['b1'].shape) # (1,)"
      ],
      "metadata": {
        "colab": {
          "base_uri": "https://localhost:8080/"
        },
        "id": "tQzYjR-upWoY",
        "outputId": "4bddeee6-e8f1-49e1-e36b-62a7b2c9acda"
      },
      "execution_count": 13,
      "outputs": [
        {
          "output_type": "stream",
          "name": "stdout",
          "text": [
            "(784, 1)\n",
            "(1,)\n"
          ]
        }
      ]
    },
    {
      "cell_type": "code",
      "source": [
        "network = OneLayerNet(input_size=784, output_size=1)\n",
        "optimizer = SGD(lr=0.0001) ###\n",
        "\n",
        "# 하이퍼파라미터\n",
        "iters_num = 500  # 반복 횟수를 적절히 설정한다.\n",
        "train_size = x_train.shape[0]\n",
        "batch_size = 100   # 미니배치 크기\n",
        "# epsilon = 0.00000001 # 최소 정확도\n",
        "\n",
        "train_loss_list = []\n",
        "train_acc_list = []\n",
        "test_acc_list = []\n",
        "\n",
        "# 1에폭당 반복 수\n",
        "iter_per_epoch = max(train_size / batch_size, 1)\n",
        "print(train_size, batch_size, iter_per_epoch)\n",
        "\n",
        "for i in range(iters_num):\n",
        "    # 미니배치 획득\n",
        "    batch_mask = np.random.choice(train_size, batch_size)\n",
        "    x_batch = x_train[batch_mask]\n",
        "    t_batch = t_train[batch_mask]\n",
        "    #print(x_batch.shape, t_batch.shape)\n",
        "    \n",
        "    # 기울기 계산\n",
        "    #grad = network.numerical_gradient(x_batch, t_batch)\n",
        "    grads = network.gradient(x_batch, t_batch)\n",
        "    params = network.params\n",
        "    optimizer.update(params, grads)\n",
        "    \n",
        "    # 학습 경과 기록\n",
        "    loss = network.loss(x_batch, t_batch)\n",
        "    train_loss_list.append(loss)\n",
        "\n",
        "    # 1에폭당 정확도 계산\n",
        "    if i % iter_per_epoch == 0:\n",
        "        train_acc = network.accuracy(x_train, t_train)\n",
        "        test_acc = network.accuracy(x_test, t_test)\n",
        "        train_acc_list.append(train_acc)\n",
        "        test_acc_list.append(test_acc)\n",
        "        print(str(i)+ \": train acc, test acc | \" + str(train_acc) + \", \" + str(test_acc))\n",
        "\n",
        "    # if train_acc>1-epsilon:\n",
        "    #   break"
      ],
      "metadata": {
        "id": "1EiTFNLcpY3l",
        "colab": {
          "base_uri": "https://localhost:8080/"
        },
        "outputId": "fc13d40f-738d-4d03-e2ad-7d9ca7ce8317"
      },
      "execution_count": 22,
      "outputs": [
        {
          "output_type": "stream",
          "name": "stdout",
          "text": [
            "3000 100 30.0\n",
            "0: train acc, test acc | 1.0, 1.0\n",
            "30: train acc, test acc | 1.0, 1.0\n",
            "60: train acc, test acc | 1.0, 1.0\n",
            "90: train acc, test acc | 1.0, 1.0\n",
            "120: train acc, test acc | 1.0, 1.0\n",
            "150: train acc, test acc | 1.0, 1.0\n",
            "180: train acc, test acc | 1.0, 1.0\n",
            "210: train acc, test acc | 1.0, 1.0\n",
            "240: train acc, test acc | 1.0, 1.0\n",
            "270: train acc, test acc | 1.0, 1.0\n",
            "300: train acc, test acc | 1.0, 1.0\n",
            "330: train acc, test acc | 1.0, 1.0\n",
            "360: train acc, test acc | 1.0, 1.0\n",
            "390: train acc, test acc | 1.0, 1.0\n",
            "420: train acc, test acc | 1.0, 1.0\n",
            "450: train acc, test acc | 1.0, 1.0\n",
            "480: train acc, test acc | 1.0, 1.0\n"
          ]
        }
      ]
    },
    {
      "cell_type": "code",
      "source": [
        "%matplotlib inline\n",
        "import matplotlib.pylab as plt\n",
        "\n",
        "# 그림 4-11 손실 함수의 추이: 위쪽은 500회 반복까지의 추이, 아래쪽은 1,00회 반복까지의 추이\n",
        "f, (ax1, ax2) = plt.subplots(2, 1)\n",
        "x = np.array(range(iters_num))\n",
        "ax1.plot(x, train_loss_list, label='loss')\n",
        "ax1.set_xlabel(\"iteration\")\n",
        "ax1.set_ylabel(\"loss\")\n",
        "# ax1.set_ylim(0, 3.0)\n",
        "ax2.plot(x[:100], train_loss_list[:100], label='loss')\n",
        "ax2.set_xlabel(\"iteration\")\n",
        "ax2.set_ylabel(\"loss\")\n",
        "# ax2.set_ylim(0, 3.0)"
      ],
      "metadata": {
        "id": "6UHmRu28qBOq",
        "colab": {
          "base_uri": "https://localhost:8080/",
          "height": 297
        },
        "outputId": "55531623-fdfd-47e0-f8b3-60cefe5bf434"
      },
      "execution_count": 23,
      "outputs": [
        {
          "output_type": "execute_result",
          "data": {
            "text/plain": [
              "Text(0, 0.5, 'loss')"
            ]
          },
          "metadata": {},
          "execution_count": 23
        },
        {
          "output_type": "display_data",
          "data": {
            "text/plain": [
              "<Figure size 432x288 with 2 Axes>"
            ],
            "image/png": "[encoded data removed]"
          },
          "metadata": {
            "needs_background": "light"
          }
        }
      ]
    },
    {
      "cell_type": "code",
      "source": [
        "# for param in net.params[\"W1\"]:\n",
        "#   print(param)\n",
        "param_W1 = []\n",
        "for param in network.params[\"W1\"]:\n",
        "    param_W1.append(param)\n",
        "print(len(param_W1))\n",
        "print(network.params[\"W1\"].shape)\n",
        "f = open(\"param_α.txt\",\"w\", encoding='UTF-8', newline='')\n",
        "f.write(\"Params of α, Shape of α: %s\\n\\n\" %str(network.params[\"W1\"].shape))\n",
        "for num in range(0,len(param_W1)):\n",
        "    f.write(\"%s\\n\" %param_W1[num])\n",
        "f.close"
      ],
      "metadata": {
        "colab": {
          "base_uri": "https://localhost:8080/"
        },
        "id": "J8xGxaAPD0QN",
        "outputId": "1c7fe74b-a4a9-4dfb-fc82-41872e94ca70"
      },
      "execution_count": 24,
      "outputs": [
        {
          "output_type": "stream",
          "name": "stdout",
          "text": [
            "784\n",
            "(784, 1)\n"
          ]
        },
        {
          "output_type": "execute_result",
          "data": {
            "text/plain": [
              "<function TextIOWrapper.close()>"
            ]
          },
          "metadata": {},
          "execution_count": 24
        }
      ]
    },
    {
      "cell_type": "code",
      "source": [
        "# for param in net.params[\"W1\"]:\n",
        "#   print(param)\n",
        "param_b1 = []\n",
        "for param in network.params[\"b1\"]:\n",
        "    param_W1.append(param)\n",
        "print(len(param_b1))\n",
        "print(network.params[\"b1\"].shape)\n",
        "f = open(\"param_β.txt\",\"w\", encoding='UTF-8', newline='')\n",
        "f.write(\"Params of β, Shape of β: %s\\n\\n\" %str(network.params[\"b1\"].shape))\n",
        "for num in range(0,len(param_W1)):\n",
        "    f.write(\"%s\\n\" %param_W1[num])\n",
        "f.close"
      ],
      "metadata": {
        "colab": {
          "base_uri": "https://localhost:8080/"
        },
        "id": "Ohgxm8eiaSiO",
        "outputId": "0b28c925-cbe4-4f76-f660-7d8a5bd116dd"
      },
      "execution_count": 25,
      "outputs": [
        {
          "output_type": "stream",
          "name": "stdout",
          "text": [
            "0\n",
            "(1,)\n"
          ]
        },
        {
          "output_type": "execute_result",
          "data": {
            "text/plain": [
              "<function TextIOWrapper.close()>"
            ]
          },
          "metadata": {},
          "execution_count": 25
        }
      ]
    },
    {
      "cell_type": "code",
      "source": [],
      "metadata": {
        "id": "St0cK7P_r8jB"
      },
      "execution_count": 17,
      "outputs": []
    }
  ]
}