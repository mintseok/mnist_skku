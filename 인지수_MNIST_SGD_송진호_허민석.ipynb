{
  "nbformat": 4,
  "nbformat_minor": 0,
  "metadata": {
    "colab": {
      "provenance": [],
      "authorship_tag": "ABX9TyN1f01aU1p1Ynb5HBQ84Ufe",
      "include_colab_link": true
    },
    "kernelspec": {
      "name": "python3",
      "display_name": "Python 3"
    },
    "language_info": {
      "name": "python"
    },
    "accelerator": "GPU",
    "gpuClass": "standard"
  },
  "cells": [
    {
      "cell_type": "markdown",
      "metadata": {
        "id": "view-in-github",
        "colab_type": "text"
      },
      "source": [
        "<a href=\"https://colab.research.google.com/github/mintseok/mnist_skku/blob/main/%EC%9D%B8%EC%A7%80%EC%88%98_MNIST_SGD_%EC%86%A1%EC%A7%84%ED%98%B8_%ED%97%88%EB%AF%BC%EC%84%9D.ipynb\" target=\"_parent\"><img src=\"https://colab.research.google.com/assets/colab-badge.svg\" alt=\"Open In Colab\"/></a>"
      ]
    },
    {
      "cell_type": "markdown",
      "source": [
        "https://github.com/RoadoneP/Deep_Learning_From_Scratch/blob/main/4%EC%9E%A5.ipynb"
      ],
      "metadata": {
        "id": "qz_zQIZIo45q"
      }
    },
    {
      "cell_type": "markdown",
      "source": [
        "길한 형님의 깃허브에서 Deep Learning From Scratch 따라가기"
      ],
      "metadata": {
        "id": "j14JZ1SwpFH5"
      }
    },
    {
      "cell_type": "code",
      "source": [
        "from mnist import load_mnist\n",
        "\n",
        "(x_train, t_train), (x_test, t_test) = load_mnist(normalize=True, one_hot_label=False)\n",
        "\n",
        "print(x_train.shape) # (60000, 784)\n",
        "print(t_train.shape) # (60000, 10)\n",
        "print(x_test.shape)  # (10000, 784)\n",
        "print(t_test.shape)  # (10000, 10)\n",
        "print(t_train[0])"
      ],
      "metadata": {
        "id": "-wKxagEMqJ6M"
      },
      "execution_count": null,
      "outputs": []
    },
    {
      "cell_type": "code",
      "source": [
        "t_train0 = [] # 5923 -> 300으로 줄여야 한다\n",
        "t_train1 = [] # 6742 -> 300\n",
        "t_train2 = [] # 5958\n",
        "t_train3 = [] # 6131\n",
        "t_train4 = [] # 5842\n",
        "t_train5 = [] # 5421\n",
        "t_train6 = [] # 5918\n",
        "t_train7 = [] # 6265\n",
        "t_train8 = [] # 5851\n",
        "t_train9 = [] # 5949\n",
        "for i in range(60000):\n",
        "  if t_train[i]==0:\n",
        "    t_train0.append(i)\n",
        "  if t_train[i]==1:\n",
        "    t_train1.append(i)\n",
        "  if t_train[i]==2:\n",
        "    t_train2.append(i)\n",
        "  if t_train[i]==3:\n",
        "    t_train3.append(i)\n",
        "  if t_train[i]==4:\n",
        "    t_train4.append(i)\n",
        "  if t_train[i]==5:\n",
        "    t_train5.append(i)\n",
        "  if t_train[i]==6:\n",
        "    t_train6.append(i)\n",
        "  if t_train[i]==7:\n",
        "    t_train7.append(i)\n",
        "  if t_train[i]==8:\n",
        "    t_train8.append(i)\n",
        "  if t_train[i]==9:\n",
        "    t_train9.append(i)\n",
        "\n",
        "print(len(t_train0), len(t_train1), len(t_train2), len(t_train3), len(t_train4), len(t_train5), len(t_train6), len(t_train7), len(t_train8), len(t_train9))"
      ],
      "metadata": {
        "id": "OyXJzzsWyr0T"
      },
      "execution_count": null,
      "outputs": []
    },
    {
      "cell_type": "code",
      "source": [
        "t_test0 = [] # 980 -> 50으로 줄여야 한다\n",
        "t_test1 = [] # 1135 -> 50\n",
        "t_test2 = [] # 1032\n",
        "t_test3 = [] # 1010\n",
        "t_test4 = [] # 982\n",
        "t_test5 = [] # 892\n",
        "t_test6 = [] # 958\n",
        "t_test7 = [] # 1028\n",
        "t_test8 = [] # 974\n",
        "t_test9 = [] # 1009\n",
        "for i in range(10000):\n",
        "  if t_test[i]==0:\n",
        "    t_test0.append(i)\n",
        "  if t_test[i]==1:\n",
        "    t_test1.append(i)\n",
        "  if t_test[i]==2:\n",
        "    t_test2.append(i)\n",
        "  if t_test[i]==3:\n",
        "    t_test3.append(i)\n",
        "  if t_test[i]==4:\n",
        "    t_test4.append(i)\n",
        "  if t_test[i]==5:\n",
        "    t_test5.append(i)\n",
        "  if t_test[i]==6:\n",
        "    t_test6.append(i)\n",
        "  if t_test[i]==7:\n",
        "    t_test7.append(i)\n",
        "  if t_test[i]==8:\n",
        "    t_test8.append(i)\n",
        "  if t_test[i]==9:\n",
        "    t_test9.append(i)\n",
        "\n",
        "print(len(t_test0), len(t_test1), len(t_test2), len(t_test3), len(t_test4), len(t_test5), len(t_test6), len(t_test7), len(t_test8), len(t_test9))"
      ],
      "metadata": {
        "id": "phfmtuow0JNf"
      },
      "execution_count": null,
      "outputs": []
    },
    {
      "cell_type": "code",
      "source": [
        "new_x_train = []\n",
        "new_t_train = []\n",
        "RANGE = 250\n",
        "# 0~7 -> 250개\n",
        "# 8   -> 600개\n",
        "# 9   -> 400개\n",
        "for i in range(RANGE):\n",
        "  new_t_train.append(t_train[t_train0[i]])\n",
        "  new_x_train.append(x_train[t_train0[i]])\n",
        "for i in range(RANGE):\n",
        "  new_t_train.append(t_train[t_train1[i]])\n",
        "  new_x_train.append(x_train[t_train1[i]])\n",
        "for i in range(RANGE):\n",
        "  new_t_train.append(t_train[t_train2[i]])\n",
        "  new_x_train.append(x_train[t_train2[i]])\n",
        "for i in range(RANGE):\n",
        "  new_t_train.append(t_train[t_train3[i]])\n",
        "  new_x_train.append(x_train[t_train3[i]])\n",
        "for i in range(RANGE):\n",
        "  new_t_train.append(t_train[t_train4[i]])\n",
        "  new_x_train.append(x_train[t_train4[i]])\n",
        "for i in range(RANGE):\n",
        "  new_t_train.append(t_train[t_train5[i]])\n",
        "  new_x_train.append(x_train[t_train5[i]])\n",
        "for i in range(RANGE):\n",
        "  new_t_train.append(t_train[t_train6[i]])\n",
        "  new_x_train.append(x_train[t_train6[i]])\n",
        "for i in range(RANGE):\n",
        "  new_t_train.append(t_train[t_train7[i]])\n",
        "  new_x_train.append(x_train[t_train7[i]])\n",
        "for i in range(600):\n",
        "  new_t_train.append(t_train[t_train8[i]])\n",
        "  new_x_train.append(x_train[t_train8[i]])\n",
        "for i in range(400):\n",
        "  new_t_train.append(t_train[t_train9[i]])\n",
        "  new_x_train.append(x_train[t_train9[i]])"
      ],
      "metadata": {
        "id": "fjXmwSP81coy"
      },
      "execution_count": null,
      "outputs": []
    },
    {
      "cell_type": "code",
      "source": [
        "new_x_test = []\n",
        "new_t_test = []\n",
        "RANGE = 50\n",
        "for i in range(RANGE):\n",
        "  new_t_test.append(t_test[t_test0[i]])\n",
        "  new_x_test.append(x_test[t_test0[i]])\n",
        "for i in range(RANGE):\n",
        "  new_t_test.append(t_test[t_test1[i]])\n",
        "  new_x_test.append(x_test[t_test1[i]])\n",
        "for i in range(RANGE):\n",
        "  new_t_test.append(t_test[t_test2[i]])\n",
        "  new_x_test.append(x_test[t_test2[i]])\n",
        "for i in range(RANGE):\n",
        "  new_t_test.append(t_test[t_test3[i]])\n",
        "  new_x_test.append(x_test[t_test3[i]])\n",
        "for i in range(RANGE):\n",
        "  new_t_test.append(t_test[t_test4[i]])\n",
        "  new_x_test.append(x_test[t_test4[i]])\n",
        "for i in range(RANGE):\n",
        "  new_t_test.append(t_test[t_test5[i]])\n",
        "  new_x_test.append(x_test[t_test5[i]])\n",
        "for i in range(RANGE):\n",
        "  new_t_test.append(t_test[t_test6[i]])\n",
        "  new_x_test.append(x_test[t_test6[i]])\n",
        "for i in range(RANGE):\n",
        "  new_t_test.append(t_test[t_test7[i]])\n",
        "  new_x_test.append(x_test[t_test7[i]])\n",
        "for i in range(RANGE):\n",
        "  new_t_test.append(t_test[t_test8[i]])\n",
        "  new_x_test.append(x_test[t_test8[i]])\n",
        "for i in range(RANGE):\n",
        "  new_t_test.append(t_test[t_test9[i]])\n",
        "  new_x_test.append(x_test[t_test9[i]])"
      ],
      "metadata": {
        "id": "fmWJRQYJ4Mz9"
      },
      "execution_count": null,
      "outputs": []
    },
    {
      "cell_type": "code",
      "source": [
        "testIdx = []\n",
        "for i in range(300*10):\n",
        "  if new_t_train[i] == 8:\n",
        "    new_t_train[i] = 1\n",
        "    print(i, end=' ')\n",
        "  else:\n",
        "    new_t_train[i] = -1\n",
        "for i in range(50*10):\n",
        "  if new_t_test[i] == 8:\n",
        "    new_t_test[i] = 1\n",
        "  else:\n",
        "    new_t_test[i] = -1"
      ],
      "metadata": {
        "id": "ze4-boRmWdOj"
      },
      "execution_count": null,
      "outputs": []
    },
    {
      "cell_type": "code",
      "source": [
        "import numpy as np\n",
        "x_train = np.array(new_x_train)\n",
        "x_test = np.array(new_x_test)\n",
        "t_train = np.array(new_t_train)\n",
        "t_test = np.array(new_t_test)\n",
        "print(t_train[0])\n",
        "print(t_train[2001])\n",
        "\n",
        "def _change_ont_hot_label(X):\n",
        "    T = np.zeros((X.size, 1))\n",
        "    for idx, row in enumerate(T):\n",
        "        if X[idx]==-1:\n",
        "          row[0]=-1\n",
        "        else:\n",
        "          row[0]=1\n",
        "        \n",
        "    return T\n",
        "\n",
        "t_train = _change_ont_hot_label(t_train)\n",
        "t_test = _change_ont_hot_label(t_test)\n",
        "\n",
        "print(t_train[0])\n",
        "print(t_train[2001])\n",
        "print(len(x_train))\n",
        "print(len(t_train))\n",
        "print(len(x_test))\n",
        "print(len(t_test))"
      ],
      "metadata": {
        "id": "zYip7-o3ZeiA"
      },
      "execution_count": null,
      "outputs": []
    },
    {
      "cell_type": "code",
      "source": [
        "import numpy as np\n",
        "\n",
        "def sigmoid(x):\n",
        "    return 1 / (1 + np.exp(-x))\n",
        "\n",
        "def sigmoid_diff(x):\n",
        "    return sigmoid(x) * (1 - sigmoid(x))\n",
        "    \n",
        "def softplus(x):\n",
        "    return np.log(1+np.exp(x))\n",
        "\n",
        "def softmax(x):\n",
        "    if x.ndim == 2:\n",
        "        x = x.T\n",
        "        x = x - np.max(x, axis=0)\n",
        "        y = np.exp(x) / np.sum(np.exp(x), axis=0)\n",
        "        return y.T \n",
        "\n",
        "    x = x - np.max(x) # 오버플로 대책\n",
        "    return np.exp(x) / np.sum(np.exp(x))\n",
        "\n",
        "def cross_entropy_error(y, t):\n",
        "    if y.ndim == 1:\n",
        "        t = t.reshape(1, t.size)\n",
        "        y = y.reshape(1, y.size)\n",
        "        \n",
        "    # 훈련 데이터가 원-핫 벡터라면 정답 레이블의 인덱스로 반환\n",
        "    if t.size == y.size:\n",
        "        t = t.argmax(axis=1)\n",
        "             \n",
        "    batch_size = y.shape[0]\n",
        "    return -np.sum(np.log(y[np.arange(batch_size), t])) / batch_size\n",
        "\n",
        "def numerical_gradient(f, x):\n",
        "    h = 1e-4 # 0.0001\n",
        "    grad = np.zeros_like(x)\n",
        "    \n",
        "    it = np.nditer(x, flags=['multi_index'], op_flags=['readwrite'])\n",
        "    while not it.finished:\n",
        "        idx = it.multi_index\n",
        "        tmp_val = x[idx]\n",
        "        x[idx] = float(tmp_val) + h\n",
        "        fxh1 = f(x) # f(x+h)\n",
        "        \n",
        "        x[idx] = tmp_val - h \n",
        "        fxh2 = f(x) # f(x-h)\n",
        "        grad[idx] = (fxh1 - fxh2) / (2*h)\n",
        "        \n",
        "        x[idx] = tmp_val # 값 복원\n",
        "        it.iternext()   \n",
        "        \n",
        "    return grad\n",
        "\n",
        "class Relu:\n",
        "    def __init__(self):\n",
        "        self.mask = None\n",
        "    \n",
        "    def forward(self, x):\n",
        "        self.mask = (x <= 0)\n",
        "        out = x.copy()\n",
        "        out[self.mask] = 0\n",
        "        \n",
        "        return out\n",
        "        \n",
        "    def backward(self, dout):\n",
        "        dout[self.mask] = 0\n",
        "        dx = dout\n",
        "        \n",
        "        return dx\n",
        "\n",
        "class Sigmoid:\n",
        "    def __init__(self):\n",
        "        self.out = None\n",
        "    \n",
        "    def forward(self, x):\n",
        "        out = 1 / (1 + np.exp(-x))\n",
        "        self.out = out\n",
        "        \n",
        "        return out\n",
        "        \n",
        "    def backward(self, dout):\n",
        "        dx = dout * (1.0 - self.out) * self.out\n",
        "        \n",
        "        return dx\n",
        "\n",
        "def sigmoid(x):\n",
        "    return 1 / (1 + np.exp(-x))\n",
        "\n",
        "# 4.2.2. 교차 엔트로피 오차 참고\n",
        "def cross_entropy_error(y, t):\n",
        "    if y.ndim == 1:\n",
        "        t = t.reshape(1, t.size)\n",
        "        y = y.reshape(1, y.size)\n",
        "        \n",
        "    # 훈련 데이터가 원-핫 벡터라면 정답 레이블의 인덱스로 반환\n",
        "    if t.size == y.size:\n",
        "        t = t.argmax(axis=1)\n",
        "             \n",
        "    batch_size = y.shape[0]\n",
        "    return -np.sum(np.log(y[np.arange(batch_size), t])) / batch_size\n",
        "\n",
        "class SoftmaxWithLoss:\n",
        "    def __init__(self):\n",
        "        self.loss = None # 손실\n",
        "        self.y = None    # softmax의 출력\n",
        "        self.t = None    # 정답 레이블(원-핫 벡터)\n",
        "    \n",
        "    def forward(self, x, t):\n",
        "        self.t = t\n",
        "        self.y = softmax(x)\n",
        "        self.loss = cross_entropy_error(self.y, self.t)\n",
        "        return self.loss\n",
        "    \n",
        "    def backward(self, dout=1):\n",
        "        batch_size = self.t.shape[0]\n",
        "        dx = (self.y - self.t) / batch_size\n",
        "        \n",
        "        return dx"
      ],
      "metadata": {
        "id": "en1fSeIFxtdB"
      },
      "execution_count": null,
      "outputs": []
    },
    {
      "cell_type": "code",
      "source": [
        "class Affine:\n",
        "    def __init__(self, W, b):\n",
        "        self.W = W\n",
        "        self.b = b\n",
        "        self.x = None\n",
        "        self.dW = None\n",
        "        self.db = None\n",
        "    \n",
        "    def forward(self, x):\n",
        "        self.x = x\n",
        "        out = np.dot(x, self.W) + self.b\n",
        "                \n",
        "        return out\n",
        "    \n",
        "    def backward(self, dout):\n",
        "        dx = np.dot(dout, self.W.T)\n",
        "        repeat = self.x.T.shape[1]\n",
        "        dout1 = np.repeat(dout, repeat, axis=0)\n",
        "        self.dW = np.dot(self.x.T, dout1)\n",
        "        self.db = np.sum(dout, axis=0)\n",
        "        \n",
        "        return dx"
      ],
      "metadata": {
        "id": "TGciwxoBetoc"
      },
      "execution_count": 46,
      "outputs": []
    },
    {
      "cell_type": "code",
      "source": [
        "def softplus(x):\n",
        "    return np.log(1+np.exp(x))\n",
        "\n",
        "def sigmoid(x):\n",
        "    return 1 / (1 + np.exp(-x))\n",
        "\n",
        "def softplus_error(y, t):\n",
        "    if y.ndim == 1:\n",
        "      t = t.reshape(1, t.size)\n",
        "      y = y.reshape(1, y.size)\n",
        "          \n",
        "    batch_size = y.shape[0]\n",
        "    return np.sum(np.log(1+np.exp(-np.dot(t.T,y)))) / batch_size\n",
        "\n",
        "class SoftplusWithLoss:\n",
        "  def __init__(self):\n",
        "    self.loss = None # 손실\n",
        "    self.y = None    # softmax의 출력\n",
        "    self.t = None    # 정답 레이블(원-핫 벡터)\n",
        "\n",
        "  def forward(self, x, t):\n",
        "    self.t = t\n",
        "    self.y = x # affine 계층에서 들어온 그 값\n",
        "    self.loss = softplus_error(self.y, self.t)\n",
        "    return self.loss\n",
        "\n",
        "  def backward(self, dout=1):\n",
        "    batch_size = self.t.shape[0]\n",
        "    dx = (1 - sigmoid(np.dot(self.t.T,self.y))) / batch_size\n",
        "    \n",
        "    return dx"
      ],
      "metadata": {
        "id": "Qu9pkyDTt6__"
      },
      "execution_count": 47,
      "outputs": []
    },
    {
      "cell_type": "code",
      "source": [
        "class SGD:\n",
        "    def __init__(self, lr=0.01):\n",
        "        self.lr = lr\n",
        "        \n",
        "    def update(self, params, grads):\n",
        "        for key in params.keys():\n",
        "            params[key] -= self.lr * grads[key]"
      ],
      "metadata": {
        "id": "r925ctLuOqcT"
      },
      "execution_count": 48,
      "outputs": []
    },
    {
      "cell_type": "code",
      "source": [
        "from collections import OrderedDict\n",
        "\n",
        "class OneLayerNet:\n",
        "    def __init__(self, input_size, output_size,weight_init_std=0.01):\n",
        "        # 가중치 초기화\n",
        "        self.params = {}\n",
        "        self.params['W1'] = weight_init_std * np.random.randn(input_size, output_size)\n",
        "        self.params['b1'] = np.zeros(output_size)\n",
        "        \n",
        "\n",
        "        # 계층 생성\n",
        "        self.layers = OrderedDict()\n",
        "        self.layers['Affine1'] = Affine(self.params['W1'], self.params['b1'])\n",
        "        self.lastLayer = SoftplusWithLoss() ###\n",
        "\n",
        "    def predict(self, x):\n",
        "        for layer in self.layers.values():\n",
        "            x = layer.forward(x)\n",
        "\n",
        "        return x\n",
        "\n",
        "    # x : 입력 데이터, t : 정답 레이블\n",
        "    def loss(self, x, t):\n",
        "        y = self.predict(x)\n",
        "        return self.lastLayer.forward(y, t)\n",
        "\n",
        "    def accuracy(self, x, t):\n",
        "        y = self.predict(x)\n",
        "        y = np.argmax(y, axis=1)\n",
        "        if t.ndim != 1:\n",
        "            t = np.argmax(t, axis=1)\n",
        "\n",
        "        accuracy = np.sum(y == t) / float(x.shape[0])\n",
        "        return accuracy\n",
        "\n",
        "    def numerical_gradient(self, x, t):\n",
        "        loss_W = lambda W: self.loss(x, t)\n",
        "\n",
        "        grads = {}\n",
        "        grads['W1'] = numerical_gradient(loss_W, self.params['W1'])\n",
        "        grads['b1'] = numerical_gradient(loss_W, self.params['b1'])\n",
        "\n",
        "        return grads\n",
        "\n",
        "    def gradient(self, x, t):\n",
        "        # 순전파\n",
        "        self.loss(x, t)\n",
        "\n",
        "        # 역전파\n",
        "        dout = 1\n",
        "        dout = self.lastLayer.backward(dout)\n",
        "\n",
        "        layers = list(self.layers.values())\n",
        "        layers.reverse()\n",
        "        for layer in layers:\n",
        "            dout = layer.backward(dout)\n",
        "\n",
        "        # 결과 저장\n",
        "        grads = {}\n",
        "        grads['W1'] = self.layers['Affine1'].dW\n",
        "        grads['b1'] = self.layers['Affine1'].db\n",
        "\n",
        "        return grads"
      ],
      "metadata": {
        "id": "mBkFzR5OjmWf"
      },
      "execution_count": 49,
      "outputs": []
    },
    {
      "cell_type": "code",
      "source": [
        "net = OneLayerNet(input_size=784,output_size=1)\n",
        "print(net.params['W1'].shape) # (784, 2)\n",
        "print(net.params['b1'].shape) # (1,)"
      ],
      "metadata": {
        "colab": {
          "base_uri": "https://localhost:8080/"
        },
        "id": "tQzYjR-upWoY",
        "outputId": "50c324e3-3bb4-4797-e1ee-8480330bf4c0"
      },
      "execution_count": 50,
      "outputs": [
        {
          "output_type": "stream",
          "name": "stdout",
          "text": [
            "(784, 1)\n",
            "(1,)\n"
          ]
        }
      ]
    },
    {
      "cell_type": "code",
      "source": [
        "network = OneLayerNet(input_size=784, output_size=1)\n",
        "optimizer = SGD() ###\n",
        "\n",
        "# 하이퍼파라미터\n",
        "iters_num = 500  # 반복 횟수를 적절히 설정한다.\n",
        "train_size = x_train.shape[0]\n",
        "batch_size = 10   # 미니배치 크기\n",
        "learning_rate = 0.1\n",
        "# epsilon = 0.00000001 # 최소 정확도\n",
        "\n",
        "train_loss_list = []\n",
        "train_acc_list = []\n",
        "test_acc_list = []\n",
        "\n",
        "# 1에폭당 반복 수\n",
        "iter_per_epoch = max(train_size / batch_size, 1)\n",
        "print(train_size, batch_size, iter_per_epoch)\n",
        "\n",
        "for i in range(iters_num):\n",
        "    # 미니배치 획득\n",
        "    batch_mask = np.random.choice(train_size, batch_size)\n",
        "    x_batch = x_train[batch_mask]\n",
        "    t_batch = t_train[batch_mask]\n",
        "    #print(x_batch.shape, t_batch.shape)\n",
        "    \n",
        "    # 기울기 계산\n",
        "    #grad = network.numerical_gradient(x_batch, t_batch)\n",
        "    grads = network.gradient(x_batch, t_batch)\n",
        "    params = network.params\n",
        "    optimizer.update(params, grads)\n",
        "    \n",
        "    # 학습 경과 기록\n",
        "    loss = network.loss(x_batch, t_batch)\n",
        "    train_loss_list.append(loss)\n",
        "\n",
        "    # 1에폭당 정확도 계산\n",
        "    if i % iter_per_epoch == 0:\n",
        "        train_acc = network.accuracy(x_train, t_train)\n",
        "        test_acc = network.accuracy(x_test, t_test)\n",
        "        train_acc_list.append(train_acc)\n",
        "        test_acc_list.append(test_acc)\n",
        "        print(str(i)+ \": train acc, test acc | \" + str(train_acc) + \", \" + str(test_acc))\n",
        "\n",
        "    # if train_acc>1-epsilon:\n",
        "    #   break"
      ],
      "metadata": {
        "id": "1EiTFNLcpY3l",
        "colab": {
          "base_uri": "https://localhost:8080/"
        },
        "outputId": "ebbc17aa-e8f9-4778-e80b-cd281c0641bf"
      },
      "execution_count": 58,
      "outputs": [
        {
          "output_type": "stream",
          "name": "stdout",
          "text": [
            "3000 10 300.0\n",
            "0: train acc, test acc | 1.0, 1.0\n",
            "300: train acc, test acc | 1.0, 1.0\n"
          ]
        }
      ]
    },
    {
      "cell_type": "code",
      "source": [
        "%matplotlib inline\n",
        "import matplotlib.pylab as plt\n",
        "\n",
        "# 그림 4-11 손실 함수의 추이: 위쪽은 500회 반복까지의 추이, 아래쪽은 1,00회 반복까지의 추이\n",
        "f, (ax1, ax2) = plt.subplots(2, 1)\n",
        "x = np.array(range(iters_num))\n",
        "ax1.plot(x, train_loss_list, label='loss')\n",
        "ax1.set_xlabel(\"iteration\")\n",
        "ax1.set_ylabel(\"loss\")\n",
        "# ax1.set_ylim(0, 3.0)\n",
        "ax2.plot(x[:100], train_loss_list[:100], label='loss')\n",
        "ax2.set_xlabel(\"iteration\")\n",
        "ax2.set_ylabel(\"loss\")\n",
        "# ax2.set_ylim(0, 3.0)"
      ],
      "metadata": {
        "id": "6UHmRu28qBOq",
        "colab": {
          "base_uri": "https://localhost:8080/",
          "height": 297
        },
        "outputId": "d304dd0c-ee42-47a0-d8b7-04db62600d35"
      },
      "execution_count": 59,
      "outputs": [
        {
          "output_type": "execute_result",
          "data": {
            "text/plain": [
              "Text(0, 0.5, 'loss')"
            ]
          },
          "metadata": {},
          "execution_count": 59
        },
        {
          "output_type": "display_data",
          "data": {
            "text/plain": [
              "<Figure size 432x288 with 2 Axes>"
            ],
            "image/png": "[encoded data removed]"
          },
          "metadata": {
            "needs_background": "light"
          }
        }
      ]
    },
    {
      "cell_type": "code",
      "source": [
        "# for param in net.params[\"W1\"]:\n",
        "#   print(param)\n",
        "param_W1 = []\n",
        "for param in network.params[\"W1\"]:\n",
        "    param_W1.append(param)\n",
        "print(len(param_W1))\n",
        "print(network.params[\"W1\"].shape)\n",
        "f = open(\"param_α.txt\",\"w\", encoding='UTF-8', newline='')\n",
        "f.write(\"Params of α, Shape of α: %s\\n\\n\" %str(network.params[\"W1\"].shape))\n",
        "for num in range(0,len(param_W1)):\n",
        "    f.write(\"%s\\n\" %param_W1[num])\n",
        "f.close"
      ],
      "metadata": {
        "colab": {
          "base_uri": "https://localhost:8080/"
        },
        "id": "J8xGxaAPD0QN",
        "outputId": "1f0c48fd-3244-454f-e8a0-37602957ead5"
      },
      "execution_count": 60,
      "outputs": [
        {
          "output_type": "stream",
          "name": "stdout",
          "text": [
            "784\n",
            "(784, 1)\n"
          ]
        },
        {
          "output_type": "execute_result",
          "data": {
            "text/plain": [
              "<function TextIOWrapper.close()>"
            ]
          },
          "metadata": {},
          "execution_count": 60
        }
      ]
    },
    {
      "cell_type": "code",
      "source": [
        "# for param in net.params[\"W1\"]:\n",
        "#   print(param)\n",
        "param_b1 = []\n",
        "for param in network.params[\"b1\"]:\n",
        "    param_W1.append(param)\n",
        "print(len(param_b1))\n",
        "print(network.params[\"b1\"].shape)\n",
        "f = open(\"param_β.txt\",\"w\", encoding='UTF-8', newline='')\n",
        "f.write(\"Params of β, Shape of β: %s\\n\\n\" %str(network.params[\"b1\"].shape))\n",
        "for num in range(0,len(param_W1)):\n",
        "    f.write(\"%s\\n\" %param_W1[num])\n",
        "f.close"
      ],
      "metadata": {
        "colab": {
          "base_uri": "https://localhost:8080/"
        },
        "id": "Ohgxm8eiaSiO",
        "outputId": "1330b3d3-816c-49a0-dc59-e7403f41e7e8"
      },
      "execution_count": 61,
      "outputs": [
        {
          "output_type": "stream",
          "name": "stdout",
          "text": [
            "0\n",
            "(1,)\n"
          ]
        },
        {
          "output_type": "execute_result",
          "data": {
            "text/plain": [
              "<function TextIOWrapper.close()>"
            ]
          },
          "metadata": {},
          "execution_count": 61
        }
      ]
    },
    {
      "cell_type": "code",
      "source": [],
      "metadata": {
        "id": "St0cK7P_r8jB"
      },
      "execution_count": null,
      "outputs": []
    }
  ]
}